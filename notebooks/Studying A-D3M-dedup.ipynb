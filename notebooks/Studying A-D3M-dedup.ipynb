{
 "cells": [
  {
   "cell_type": "code",
   "execution_count": 84,
   "metadata": {},
   "outputs": [],
   "source": [
    "import polars as pl\n",
    "import pandas as pd\n",
    "from pathlib import Path\n",
    "import sys\n",
    "sys.path.append('../')\n"
   ]
  },
  {
   "cell_type": "code",
   "execution_count": 11,
   "metadata": {},
   "outputs": [],
   "source": [
    "# Setting working folder\n",
    "working_folder = Path(\".\").resolve().parent\n",
    "root_data_folder = Path(working_folder, \"data\")\n",
    "data_folder = Path(root_data_folder, \"soda-data-lake/a-d3m/a-d3m_dedup\")\n",
    "dataset_folder = Path(data_folder, \"datasets\")\n",
    "assert dataset_folder.exists()"
   ]
  },
  {
   "cell_type": "code",
   "execution_count": 13,
   "metadata": {},
   "outputs": [],
   "source": [
    "# Selecting only the first dataset for testing \n",
    "dataset_list = list(dataset_folder.iterdir())\n",
    "first_path = dataset_list[0]"
   ]
  },
  {
   "cell_type": "code",
   "execution_count": 86,
   "metadata": {},
   "outputs": [],
   "source": [
    "df_pl = pl.read_csv(first_path)"
   ]
  },
  {
   "cell_type": "code",
   "execution_count": 87,
   "metadata": {},
   "outputs": [
    {
     "data": {
      "text/html": [
       "<div><style>\n",
       ".dataframe > thead > tr > th,\n",
       ".dataframe > tbody > tr > td {\n",
       "  text-align: right;\n",
       "}\n",
       "</style>\n",
       "<small>shape: (7, 15)</small><table border=\"1\" class=\"dataframe\"><thead><tr><th>describe</th><th>data_year</th><th>state</th><th>disease_group</th><th>disease</th><th>sex</th><th>age_group</th><th>deaths</th><th>yll</th><th>crude_yll_rate</th><th>yld</th><th>crude_yld_rate</th><th>daly</th><th>crude_daly_rate</th><th>daly_rank</th></tr><tr><td>str</td><td>f64</td><td>str</td><td>str</td><td>str</td><td>str</td><td>str</td><td>f64</td><td>f64</td><td>f64</td><td>f64</td><td>f64</td><td>f64</td><td>f64</td><td>f64</td></tr></thead><tbody><tr><td>&quot;count&quot;</td><td>1350.0</td><td>&quot;1350&quot;</td><td>&quot;1350&quot;</td><td>&quot;1350&quot;</td><td>&quot;1350&quot;</td><td>&quot;1350&quot;</td><td>1350.0</td><td>1350.0</td><td>1350.0</td><td>1350.0</td><td>1350.0</td><td>1350.0</td><td>1350.0</td><td>1350.0</td></tr><tr><td>&quot;null_count&quot;</td><td>0.0</td><td>&quot;0&quot;</td><td>&quot;0&quot;</td><td>&quot;0&quot;</td><td>&quot;0&quot;</td><td>&quot;0&quot;</td><td>0.0</td><td>0.0</td><td>0.0</td><td>0.0</td><td>0.0</td><td>0.0</td><td>0.0</td><td>0.0</td></tr><tr><td>&quot;mean&quot;</td><td>2014.666667</td><td>null</td><td>null</td><td>null</td><td>null</td><td>null</td><td>7.274815</td><td>113.703704</td><td>3.478495</td><td>151.997037</td><td>2.733693</td><td>265.707407</td><td>6.217505</td><td>25.5</td></tr><tr><td>&quot;std&quot;</td><td>2.868504</td><td>null</td><td>null</td><td>null</td><td>null</td><td>null</td><td>17.182469</td><td>207.196732</td><td>8.676296</td><td>307.542289</td><td>5.542367</td><td>362.320316</td><td>12.566659</td><td>14.436217</td></tr><tr><td>&quot;min&quot;</td><td>2011.0</td><td>&quot;ACT&quot;</td><td>&quot;Blood and meta...</td><td>&quot;Abdominal wall...</td><td>&quot;Females&quot;</td><td>&quot;0–24&quot;</td><td>0.0</td><td>0.0</td><td>0.0</td><td>0.0</td><td>0.0</td><td>6.0</td><td>0.087</td><td>1.0</td></tr><tr><td>&quot;max&quot;</td><td>2018.0</td><td>&quot;ACT&quot;</td><td>&quot;Skin disorders...</td><td>&quot;Uterine cancer...</td><td>&quot;Persons&quot;</td><td>&quot;75+&quot;</td><td>211.0</td><td>1703.0</td><td>104.104</td><td>3163.0</td><td>56.0</td><td>3163.0</td><td>129.27</td><td>50.0</td></tr><tr><td>&quot;median&quot;</td><td>2015.0</td><td>null</td><td>null</td><td>null</td><td>null</td><td>null</td><td>1.0</td><td>37.0</td><td>0.911</td><td>43.0</td><td>0.871</td><td>142.5</td><td>2.5495</td><td>25.5</td></tr></tbody></table></div>"
      ],
      "text/plain": [
       "shape: (7, 15)\n",
       "┌───────────┬───────────┬───────┬────────────┬───┬────────────┬───────────┬────────────┬───────────┐\n",
       "│ describe  ┆ data_year ┆ state ┆ disease_gr ┆ … ┆ crude_yld_ ┆ daly      ┆ crude_daly ┆ daly_rank │\n",
       "│ ---       ┆ ---       ┆ ---   ┆ oup        ┆   ┆ rate       ┆ ---       ┆ _rate      ┆ ---       │\n",
       "│ str       ┆ f64       ┆ str   ┆ ---        ┆   ┆ ---        ┆ f64       ┆ ---        ┆ f64       │\n",
       "│           ┆           ┆       ┆ str        ┆   ┆ f64        ┆           ┆ f64        ┆           │\n",
       "╞═══════════╪═══════════╪═══════╪════════════╪═══╪════════════╪═══════════╪════════════╪═══════════╡\n",
       "│ count     ┆ 1350.0    ┆ 1350  ┆ 1350       ┆ … ┆ 1350.0     ┆ 1350.0    ┆ 1350.0     ┆ 1350.0    │\n",
       "│ null_coun ┆ 0.0       ┆ 0     ┆ 0          ┆ … ┆ 0.0        ┆ 0.0       ┆ 0.0        ┆ 0.0       │\n",
       "│ t         ┆           ┆       ┆            ┆   ┆            ┆           ┆            ┆           │\n",
       "│ mean      ┆ 2014.6666 ┆ null  ┆ null       ┆ … ┆ 2.733693   ┆ 265.70740 ┆ 6.217505   ┆ 25.5      │\n",
       "│           ┆ 67        ┆       ┆            ┆   ┆            ┆ 7         ┆            ┆           │\n",
       "│ std       ┆ 2.868504  ┆ null  ┆ null       ┆ … ┆ 5.542367   ┆ 362.32031 ┆ 12.566659  ┆ 14.436217 │\n",
       "│           ┆           ┆       ┆            ┆   ┆            ┆ 6         ┆            ┆           │\n",
       "│ min       ┆ 2011.0    ┆ ACT   ┆ Blood and  ┆ … ┆ 0.0        ┆ 6.0       ┆ 0.087      ┆ 1.0       │\n",
       "│           ┆           ┆       ┆ metabolic  ┆   ┆            ┆           ┆            ┆           │\n",
       "│           ┆           ┆       ┆ disorders  ┆   ┆            ┆           ┆            ┆           │\n",
       "│ max       ┆ 2018.0    ┆ ACT   ┆ Skin       ┆ … ┆ 56.0       ┆ 3163.0    ┆ 129.27     ┆ 50.0      │\n",
       "│           ┆           ┆       ┆ disorders  ┆   ┆            ┆           ┆            ┆           │\n",
       "│ median    ┆ 2015.0    ┆ null  ┆ null       ┆ … ┆ 0.871      ┆ 142.5     ┆ 2.5495     ┆ 25.5      │\n",
       "└───────────┴───────────┴───────┴────────────┴───┴────────────┴───────────┴────────────┴───────────┘"
      ]
     },
     "execution_count": 87,
     "metadata": {},
     "output_type": "execute_result"
    }
   ],
   "source": [
    "df_pl.describe()"
   ]
  },
  {
   "cell_type": "code",
   "execution_count": 89,
   "metadata": {},
   "outputs": [],
   "source": [
    "df_pd = df_pl.to_pandas()"
   ]
  },
  {
   "cell_type": "markdown",
   "metadata": {},
   "source": [
    "### Dataframe size"
   ]
  },
  {
   "cell_type": "code",
   "execution_count": null,
   "metadata": {},
   "outputs": [],
   "source": [
    "%%timeit -n 100\n"
   ]
  },
  {
   "cell_type": "markdown",
   "metadata": {},
   "source": [
    "### Average redundancy"
   ]
  },
  {
   "cell_type": "code",
   "execution_count": 74,
   "metadata": {},
   "outputs": [
    {
     "name": "stdout",
     "output_type": "stream",
     "text": [
      "775 µs ± 215 µs per loop (mean ± std. dev. of 7 runs, 10 loops each)\n"
     ]
    }
   ],
   "source": [
    "def average_redundancy_pl(df: pl.DataFrame):\n",
    "    return df.select(\n",
    "            [pl.all().unique_counts().mean(),]\n",
    "    ).mean(axis=1)"
   ]
  },
  {
   "cell_type": "code",
   "execution_count": 75,
   "metadata": {},
   "outputs": [
    {
     "name": "stdout",
     "output_type": "stream",
     "text": [
      "11.4 ms ± 5.03 ms per loop (mean ± std. dev. of 7 runs, 10 loops each)\n"
     ]
    }
   ],
   "source": [
    "def average_redundancy_pd(df: pd.DataFrame):\n",
    "    def avg_red(col: pd.Series):\n",
    "        return col.value_counts().mean()\n",
    "\n",
    "    return df.apply(avg_red).mean()\n"
   ]
  },
  {
   "cell_type": "markdown",
   "metadata": {},
   "source": [
    "### Max cardinality column"
   ]
  },
  {
   "cell_type": "code",
   "execution_count": 126,
   "metadata": {},
   "outputs": [],
   "source": [
    "max_cardinality = df_pl.select(\n",
    "        [pl.all().n_unique().max(),]\n",
    ")\n",
    "max_cardinality.to_pandas().transpose().idxmax()"
   ]
  },
  {
   "cell_type": "code",
   "execution_count": 130,
   "metadata": {},
   "outputs": [
    {
     "data": {
      "text/plain": [
       "'crude_daly_rate'"
      ]
     },
     "execution_count": 130,
     "metadata": {},
     "output_type": "execute_result"
    }
   ],
   "source": [
    "df_pd.nunique().idxmax()"
   ]
  },
  {
   "cell_type": "code",
   "execution_count": null,
   "metadata": {},
   "outputs": [],
   "source": []
  },
  {
   "cell_type": "code",
   "execution_count": 132,
   "metadata": {},
   "outputs": [],
   "source": [
    "lf = pl.scan_csv(first_path)"
   ]
  },
  {
   "cell_type": "code",
   "execution_count": 133,
   "metadata": {},
   "outputs": [
    {
     "data": {
      "text/html": [
       "<div><style>\n",
       ".dataframe > thead > tr > th,\n",
       ".dataframe > tbody > tr > td {\n",
       "  text-align: right;\n",
       "}\n",
       "</style>\n",
       "<small>shape: (1, 1)</small><table border=\"1\" class=\"dataframe\"><thead><tr><th>count</th></tr><tr><td>u32</td></tr></thead><tbody><tr><td>1350</td></tr></tbody></table></div>"
      ],
      "text/plain": [
       "shape: (1, 1)\n",
       "┌───────┐\n",
       "│ count │\n",
       "│ ---   │\n",
       "│ u32   │\n",
       "╞═══════╡\n",
       "│ 1350  │\n",
       "└───────┘"
      ]
     },
     "execution_count": 133,
     "metadata": {},
     "output_type": "execute_result"
    }
   ],
   "source": [
    "lf.select(pl.count()).collect()"
   ]
  },
  {
   "cell_type": "code",
   "execution_count": null,
   "metadata": {},
   "outputs": [],
   "source": []
  }
 ],
 "metadata": {
  "kernelspec": {
   "display_name": "d3m",
   "language": "python",
   "name": "python3"
  },
  "language_info": {
   "codemirror_mode": {
    "name": "ipython",
    "version": 3
   },
   "file_extension": ".py",
   "mimetype": "text/x-python",
   "name": "python",
   "nbconvert_exporter": "python",
   "pygments_lexer": "ipython3",
   "version": "3.8.15"
  },
  "orig_nbformat": 4
 },
 "nbformat": 4,
 "nbformat_minor": 2
}

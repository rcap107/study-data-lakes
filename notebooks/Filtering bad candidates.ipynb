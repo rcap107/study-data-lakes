{
 "cells": [
  {
   "attachments": {},
   "cell_type": "markdown",
   "metadata": {},
   "source": [
    "Filtering bad candidates\n",
    "===\n",
    "In this notebook I will be filtering candidate datasets to remove those that appear to be improperly matched according to different metrics.\n",
    "\n",
    "I will start with two metrics.\n",
    " - Join column cardinality: if the cardinality of a column is lower than a certain threshold (relative to the size of the dataset), it will be dropped. \n",
    " - Left join size: if the size of the table that would be the result of a left join is larger than a certain threshold, then the candidate will be dropped. "
   ]
  },
  {
   "cell_type": "code",
   "execution_count": 8,
   "metadata": {},
   "outputs": [
    {
     "name": "stdout",
     "output_type": "stream",
     "text": [
      "/home/soda/rcappuzz/work/study-data-lakes\n"
     ]
    }
   ],
   "source": [
    "%cd /home/soda/rcappuzz/work/study-data-lakes/"
   ]
  },
  {
   "cell_type": "code",
   "execution_count": 9,
   "metadata": {},
   "outputs": [
    {
     "name": "stdout",
     "output_type": "stream",
     "text": [
      "The autoreload extension is already loaded. To reload it, use:\n",
      "  %reload_ext autoreload\n"
     ]
    }
   ],
   "source": [
    "%load_ext autoreload\n",
    "%autoreload 2\n",
    "import pandas as pd \n",
    "import polars as pl\n",
    "import json\n",
    "from pathlib import Path\n",
    "from src.utils import profile_dataset\n",
    "from tqdm import tqdm"
   ]
  },
  {
   "cell_type": "code",
   "execution_count": 10,
   "metadata": {},
   "outputs": [],
   "source": [
    "# Setting working folder\n",
    "working_folder = Path(\".\")\n",
    "root_data_folder = Path(working_folder, \"data\")\n",
    "data_folder = Path(root_data_folder, \"soda-data-lake/a-d3m/a-d3m_small\")\n",
    "assert data_folder.exists()"
   ]
  },
  {
   "attachments": {},
   "cell_type": "markdown",
   "metadata": {},
   "source": [
    "## Prepare the setup for a single dataset\n",
    "1. Read the original dataset\n",
    "2. Read the candidates\n",
    "3. Compute the metrics"
   ]
  },
  {
   "cell_type": "code",
   "execution_count": 11,
   "metadata": {},
   "outputs": [
    {
     "name": "stderr",
     "output_type": "stream",
     "text": [
      "100%|██████████| 8/8 [00:24<00:00,  3.06s/it]\n"
     ]
    }
   ],
   "source": [
    "dataset_list = list(data_folder.iterdir())\n",
    "\n",
    "df_info_overall = pd.DataFrame()\n",
    "\n",
    "for dataset_path in tqdm(dataset_list, total=len(dataset_list)):\n",
    "    df_info = profile_dataset(dataset_path=dataset_path, engine=\"polars\")\n",
    "    df_info_overall = pd.concat([df_info_overall, df_info])"
   ]
  },
  {
   "cell_type": "code",
   "execution_count": 13,
   "metadata": {},
   "outputs": [],
   "source": [
    "df_info_clean = df_info_overall.dropna()\n",
    "df_info_clean.to_csv(\n",
    "    \"info_a-d3m_small.csv\", index=False\n",
    ")"
   ]
  },
  {
   "cell_type": "code",
   "execution_count": null,
   "metadata": {},
   "outputs": [],
   "source": []
  },
  {
   "cell_type": "code",
   "execution_count": 195,
   "metadata": {},
   "outputs": [
    {
     "data": {
      "text/html": [
       "<div>\n",
       "<style scoped>\n",
       "    .dataframe tbody tr th:only-of-type {\n",
       "        vertical-align: middle;\n",
       "    }\n",
       "\n",
       "    .dataframe tbody tr th {\n",
       "        vertical-align: top;\n",
       "    }\n",
       "\n",
       "    .dataframe thead th {\n",
       "        text-align: right;\n",
       "    }\n",
       "</style>\n",
       "<table border=\"1\" class=\"dataframe\">\n",
       "  <thead>\n",
       "    <tr style=\"text-align: right;\">\n",
       "      <th></th>\n",
       "      <th>ds_name</th>\n",
       "      <th>candidate_name</th>\n",
       "      <th>left_on</th>\n",
       "      <th>right_on</th>\n",
       "      <th>merged_rows</th>\n",
       "      <th>scale_factor</th>\n",
       "      <th>left_unique_keys</th>\n",
       "      <th>right_unique_keys</th>\n",
       "      <th>left_rows</th>\n",
       "      <th>left_cols</th>\n",
       "    </tr>\n",
       "  </thead>\n",
       "  <tbody>\n",
       "    <tr>\n",
       "      <th>16</th>\n",
       "      <td>LL0_200_pbc</td>\n",
       "      <td>datamart.zenodo.6974483.3d9901cd-8a55-48ee-b2f...</td>\n",
       "      <td>[Z14]</td>\n",
       "      <td>[p14]</td>\n",
       "      <td>161442.0</td>\n",
       "      <td>386.224880</td>\n",
       "      <td>147.0</td>\n",
       "      <td>80.0</td>\n",
       "      <td>418.0</td>\n",
       "      <td>20.0</td>\n",
       "    </tr>\n",
       "    <tr>\n",
       "      <th>17</th>\n",
       "      <td>LL0_200_pbc</td>\n",
       "      <td>datamart.socrata.data-usaid-gov.mm3i-pcnd</td>\n",
       "      <td>[Z17]</td>\n",
       "      <td>[b17]</td>\n",
       "      <td>93585.0</td>\n",
       "      <td>223.887560</td>\n",
       "      <td>5.0</td>\n",
       "      <td>8.0</td>\n",
       "      <td>418.0</td>\n",
       "      <td>20.0</td>\n",
       "    </tr>\n",
       "    <tr>\n",
       "      <th>18</th>\n",
       "      <td>LL0_200_pbc</td>\n",
       "      <td>datamart.socrata.data-usaid-gov.ibtf-2a34</td>\n",
       "      <td>[Z17]</td>\n",
       "      <td>[b17]</td>\n",
       "      <td>70992.0</td>\n",
       "      <td>169.837321</td>\n",
       "      <td>5.0</td>\n",
       "      <td>8.0</td>\n",
       "      <td>418.0</td>\n",
       "      <td>20.0</td>\n",
       "    </tr>\n",
       "    <tr>\n",
       "      <th>19</th>\n",
       "      <td>LL0_200_pbc</td>\n",
       "      <td>datamart.socrata.data-usaid-gov.4gye-9wpi</td>\n",
       "      <td>[Z17]</td>\n",
       "      <td>[q17]</td>\n",
       "      <td>3960.0</td>\n",
       "      <td>9.473684</td>\n",
       "      <td>5.0</td>\n",
       "      <td>17.0</td>\n",
       "      <td>418.0</td>\n",
       "      <td>20.0</td>\n",
       "    </tr>\n",
       "    <tr>\n",
       "      <th>0</th>\n",
       "      <td>LL1_736_population_spawn_MIN_METADATA</td>\n",
       "      <td>datamart.socrata.www-data-act-gov-au.c5h9-9bh7</td>\n",
       "      <td>[day]</td>\n",
       "      <td>[daly]</td>\n",
       "      <td>614041.0</td>\n",
       "      <td>20.293509</td>\n",
       "      <td>320.0</td>\n",
       "      <td>4318.0</td>\n",
       "      <td>30258.0</td>\n",
       "      <td>5.0</td>\n",
       "    </tr>\n",
       "    <tr>\n",
       "      <th>3</th>\n",
       "      <td>LL1_736_population_spawn_MIN_METADATA</td>\n",
       "      <td>datamart.zenodo.4243547.ece93f17-c7b0-48a2-b05...</td>\n",
       "      <td>[day]</td>\n",
       "      <td>[Day]</td>\n",
       "      <td>929658.0</td>\n",
       "      <td>30.724370</td>\n",
       "      <td>320.0</td>\n",
       "      <td>305.0</td>\n",
       "      <td>30258.0</td>\n",
       "      <td>5.0</td>\n",
       "    </tr>\n",
       "    <tr>\n",
       "      <th>4</th>\n",
       "      <td>LL1_736_population_spawn_MIN_METADATA</td>\n",
       "      <td>datamart.socrata.www-data-act-gov-au.65z9-5mfa</td>\n",
       "      <td>[day]</td>\n",
       "      <td>[daly]</td>\n",
       "      <td>102992.0</td>\n",
       "      <td>3.403794</td>\n",
       "      <td>320.0</td>\n",
       "      <td>549.0</td>\n",
       "      <td>30258.0</td>\n",
       "      <td>5.0</td>\n",
       "    </tr>\n",
       "    <tr>\n",
       "      <th>9</th>\n",
       "      <td>LL1_736_population_spawn_MIN_METADATA</td>\n",
       "      <td>datamart.zenodo.6621762.6876a8dd-25e0-4c4b-918...</td>\n",
       "      <td>[day]</td>\n",
       "      <td>[day]</td>\n",
       "      <td>1879351.0</td>\n",
       "      <td>62.110880</td>\n",
       "      <td>320.0</td>\n",
       "      <td>295.0</td>\n",
       "      <td>30258.0</td>\n",
       "      <td>5.0</td>\n",
       "    </tr>\n",
       "    <tr>\n",
       "      <th>11</th>\n",
       "      <td>LL1_736_population_spawn_MIN_METADATA</td>\n",
       "      <td>datamart.zenodo.5021480.47623c54-e1a8-4716-b80...</td>\n",
       "      <td>[day]</td>\n",
       "      <td>[day]</td>\n",
       "      <td>34893.0</td>\n",
       "      <td>1.153183</td>\n",
       "      <td>320.0</td>\n",
       "      <td>238.0</td>\n",
       "      <td>30258.0</td>\n",
       "      <td>5.0</td>\n",
       "    </tr>\n",
       "    <tr>\n",
       "      <th>19</th>\n",
       "      <td>LL1_736_population_spawn_MIN_METADATA</td>\n",
       "      <td>datamart.socrata.opendata-utah-gov.7iu3-rv9s</td>\n",
       "      <td>[day]</td>\n",
       "      <td>[May]</td>\n",
       "      <td>30741.0</td>\n",
       "      <td>1.015963</td>\n",
       "      <td>320.0</td>\n",
       "      <td>47.0</td>\n",
       "      <td>30258.0</td>\n",
       "      <td>5.0</td>\n",
       "    </tr>\n",
       "    <tr>\n",
       "      <th>0</th>\n",
       "      <td>LL1_gasoline_incl_aviation_production_industry</td>\n",
       "      <td>datamart.socrata.opendata-utah-gov.nbv6-7v56</td>\n",
       "      <td>[time]</td>\n",
       "      <td>[Time]</td>\n",
       "      <td>82006.0</td>\n",
       "      <td>569.486111</td>\n",
       "      <td>144.0</td>\n",
       "      <td>1757.0</td>\n",
       "      <td>144.0</td>\n",
       "      <td>3.0</td>\n",
       "    </tr>\n",
       "    <tr>\n",
       "      <th>1</th>\n",
       "      <td>LL1_gasoline_incl_aviation_production_industry</td>\n",
       "      <td>datamart.socrata.opendata-maryland-gov.x7h2-rnih</td>\n",
       "      <td>[time]</td>\n",
       "      <td>[Time]</td>\n",
       "      <td>198.0</td>\n",
       "      <td>1.375000</td>\n",
       "      <td>144.0</td>\n",
       "      <td>415.0</td>\n",
       "      <td>144.0</td>\n",
       "      <td>3.0</td>\n",
       "    </tr>\n",
       "    <tr>\n",
       "      <th>1</th>\n",
       "      <td>LL1_sentiment_self_drive</td>\n",
       "      <td>datamart.zenodo.4898818.2540e8f1-fb3d-4be0-8a3...</td>\n",
       "      <td>[sentiment]</td>\n",
       "      <td>[Sentimenti]</td>\n",
       "      <td>103560.0</td>\n",
       "      <td>14.471772</td>\n",
       "      <td>6.0</td>\n",
       "      <td>4.0</td>\n",
       "      <td>7156.0</td>\n",
       "      <td>3.0</td>\n",
       "    </tr>\n",
       "    <tr>\n",
       "      <th>0</th>\n",
       "      <td>political_instability_MIN_METADATA</td>\n",
       "      <td>datamart.socrata.data-usaid-gov.v799-4hug</td>\n",
       "      <td>[partaut]</td>\n",
       "      <td>[partact]</td>\n",
       "      <td>153041.0</td>\n",
       "      <td>26.541970</td>\n",
       "      <td>3.0</td>\n",
       "      <td>7.0</td>\n",
       "      <td>5766.0</td>\n",
       "      <td>34.0</td>\n",
       "    </tr>\n",
       "    <tr>\n",
       "      <th>1</th>\n",
       "      <td>political_instability_MIN_METADATA</td>\n",
       "      <td>datamart.socrata.data-usaid-gov.75qt-x4hk</td>\n",
       "      <td>[partaut]</td>\n",
       "      <td>[partact]</td>\n",
       "      <td>258046.0</td>\n",
       "      <td>44.753035</td>\n",
       "      <td>3.0</td>\n",
       "      <td>7.0</td>\n",
       "      <td>5766.0</td>\n",
       "      <td>34.0</td>\n",
       "    </tr>\n",
       "    <tr>\n",
       "      <th>2</th>\n",
       "      <td>political_instability_MIN_METADATA</td>\n",
       "      <td>datamart.socrata.data-usaid-gov.r3z6-2jv8</td>\n",
       "      <td>[partaut]</td>\n",
       "      <td>[partact]</td>\n",
       "      <td>2437076.0</td>\n",
       "      <td>422.663198</td>\n",
       "      <td>3.0</td>\n",
       "      <td>7.0</td>\n",
       "      <td>5766.0</td>\n",
       "      <td>34.0</td>\n",
       "    </tr>\n",
       "    <tr>\n",
       "      <th>10</th>\n",
       "      <td>political_instability_MIN_METADATA</td>\n",
       "      <td>datamart.socrata.data-ny-gov.psym-z9ae</td>\n",
       "      <td>[year]</td>\n",
       "      <td>[Year]</td>\n",
       "      <td>59297.0</td>\n",
       "      <td>10.283906</td>\n",
       "      <td>30.0</td>\n",
       "      <td>165.0</td>\n",
       "      <td>5766.0</td>\n",
       "      <td>34.0</td>\n",
       "    </tr>\n",
       "    <tr>\n",
       "      <th>16</th>\n",
       "      <td>political_instability_MIN_METADATA</td>\n",
       "      <td>datamart.socrata.datahub-transportation-gov.ni...</td>\n",
       "      <td>[year]</td>\n",
       "      <td>[Year]</td>\n",
       "      <td>69192.0</td>\n",
       "      <td>12.000000</td>\n",
       "      <td>30.0</td>\n",
       "      <td>50.0</td>\n",
       "      <td>5766.0</td>\n",
       "      <td>34.0</td>\n",
       "    </tr>\n",
       "  </tbody>\n",
       "</table>\n",
       "</div>"
      ],
      "text/plain": [
       "                                           ds_name  \\\n",
       "16                                     LL0_200_pbc   \n",
       "17                                     LL0_200_pbc   \n",
       "18                                     LL0_200_pbc   \n",
       "19                                     LL0_200_pbc   \n",
       "0            LL1_736_population_spawn_MIN_METADATA   \n",
       "3            LL1_736_population_spawn_MIN_METADATA   \n",
       "4            LL1_736_population_spawn_MIN_METADATA   \n",
       "9            LL1_736_population_spawn_MIN_METADATA   \n",
       "11           LL1_736_population_spawn_MIN_METADATA   \n",
       "19           LL1_736_population_spawn_MIN_METADATA   \n",
       "0   LL1_gasoline_incl_aviation_production_industry   \n",
       "1   LL1_gasoline_incl_aviation_production_industry   \n",
       "1                         LL1_sentiment_self_drive   \n",
       "0               political_instability_MIN_METADATA   \n",
       "1               political_instability_MIN_METADATA   \n",
       "2               political_instability_MIN_METADATA   \n",
       "10              political_instability_MIN_METADATA   \n",
       "16              political_instability_MIN_METADATA   \n",
       "\n",
       "                                       candidate_name      left_on  \\\n",
       "16  datamart.zenodo.6974483.3d9901cd-8a55-48ee-b2f...        [Z14]   \n",
       "17          datamart.socrata.data-usaid-gov.mm3i-pcnd        [Z17]   \n",
       "18          datamart.socrata.data-usaid-gov.ibtf-2a34        [Z17]   \n",
       "19          datamart.socrata.data-usaid-gov.4gye-9wpi        [Z17]   \n",
       "0      datamart.socrata.www-data-act-gov-au.c5h9-9bh7        [day]   \n",
       "3   datamart.zenodo.4243547.ece93f17-c7b0-48a2-b05...        [day]   \n",
       "4      datamart.socrata.www-data-act-gov-au.65z9-5mfa        [day]   \n",
       "9   datamart.zenodo.6621762.6876a8dd-25e0-4c4b-918...        [day]   \n",
       "11  datamart.zenodo.5021480.47623c54-e1a8-4716-b80...        [day]   \n",
       "19       datamart.socrata.opendata-utah-gov.7iu3-rv9s        [day]   \n",
       "0        datamart.socrata.opendata-utah-gov.nbv6-7v56       [time]   \n",
       "1    datamart.socrata.opendata-maryland-gov.x7h2-rnih       [time]   \n",
       "1   datamart.zenodo.4898818.2540e8f1-fb3d-4be0-8a3...  [sentiment]   \n",
       "0           datamart.socrata.data-usaid-gov.v799-4hug    [partaut]   \n",
       "1           datamart.socrata.data-usaid-gov.75qt-x4hk    [partaut]   \n",
       "2           datamart.socrata.data-usaid-gov.r3z6-2jv8    [partaut]   \n",
       "10             datamart.socrata.data-ny-gov.psym-z9ae       [year]   \n",
       "16  datamart.socrata.datahub-transportation-gov.ni...       [year]   \n",
       "\n",
       "        right_on  merged_rows  scale_factor  left_unique_keys  \\\n",
       "16         [p14]     161442.0    386.224880             147.0   \n",
       "17         [b17]      93585.0    223.887560               5.0   \n",
       "18         [b17]      70992.0    169.837321               5.0   \n",
       "19         [q17]       3960.0      9.473684               5.0   \n",
       "0         [daly]     614041.0     20.293509             320.0   \n",
       "3          [Day]     929658.0     30.724370             320.0   \n",
       "4         [daly]     102992.0      3.403794             320.0   \n",
       "9          [day]    1879351.0     62.110880             320.0   \n",
       "11         [day]      34893.0      1.153183             320.0   \n",
       "19         [May]      30741.0      1.015963             320.0   \n",
       "0         [Time]      82006.0    569.486111             144.0   \n",
       "1         [Time]        198.0      1.375000             144.0   \n",
       "1   [Sentimenti]     103560.0     14.471772               6.0   \n",
       "0      [partact]     153041.0     26.541970               3.0   \n",
       "1      [partact]     258046.0     44.753035               3.0   \n",
       "2      [partact]    2437076.0    422.663198               3.0   \n",
       "10        [Year]      59297.0     10.283906              30.0   \n",
       "16        [Year]      69192.0     12.000000              30.0   \n",
       "\n",
       "    right_unique_keys  left_rows  left_cols  \n",
       "16               80.0      418.0       20.0  \n",
       "17                8.0      418.0       20.0  \n",
       "18                8.0      418.0       20.0  \n",
       "19               17.0      418.0       20.0  \n",
       "0              4318.0    30258.0        5.0  \n",
       "3               305.0    30258.0        5.0  \n",
       "4               549.0    30258.0        5.0  \n",
       "9               295.0    30258.0        5.0  \n",
       "11              238.0    30258.0        5.0  \n",
       "19               47.0    30258.0        5.0  \n",
       "0              1757.0      144.0        3.0  \n",
       "1               415.0      144.0        3.0  \n",
       "1                 4.0     7156.0        3.0  \n",
       "0                 7.0     5766.0       34.0  \n",
       "1                 7.0     5766.0       34.0  \n",
       "2                 7.0     5766.0       34.0  \n",
       "10              165.0     5766.0       34.0  \n",
       "16               50.0     5766.0       34.0  "
      ]
     },
     "execution_count": 195,
     "metadata": {},
     "output_type": "execute_result"
    }
   ],
   "source": [
    "df_info_clean.loc[df_info_clean[\"scale_factor\"] > 1]"
   ]
  },
  {
   "cell_type": "markdown",
   "metadata": {},
   "source": [
    "## Profiling all datasets"
   ]
  },
  {
   "cell_type": "code",
   "execution_count": 15,
   "metadata": {},
   "outputs": [],
   "source": [
    "# Setting working folder\n",
    "working_folder = Path(\".\")\n",
    "root_data_folder = Path(working_folder, \"data\")\n",
    "data_folder = Path(root_data_folder, \"soda-data-lake/a-d3m/a-d3m_full\")\n",
    "assert data_folder.exists()"
   ]
  },
  {
   "cell_type": "code",
   "execution_count": 16,
   "metadata": {},
   "outputs": [
    {
     "name": "stderr",
     "output_type": "stream",
     "text": [
      "  1%|          | 2/391 [00:04<11:20,  1.75s/it]"
     ]
    }
   ],
   "source": [
    "dataset_list = list(data_folder.iterdir())\n",
    "\n",
    "df_info_overall = pd.DataFrame()\n",
    "\n",
    "for dataset_path in tqdm(dataset_list, total=len(dataset_list)):\n",
    "    df_info = profile_dataset(dataset_path=dataset_path, engine=\"polars\")\n",
    "    df_info_overall = pd.concat([df_info_overall, df_info])"
   ]
  },
  {
   "cell_type": "code",
   "execution_count": null,
   "metadata": {},
   "outputs": [],
   "source": [
    "df_info_clean = df_info_overall.dropna()\n",
    "df_info_clean.to_csv(\n",
    "    \"info_a-d3m_full.csv\", index=False\n",
    ")"
   ]
  },
  {
   "cell_type": "markdown",
   "metadata": {},
   "source": [
    "## Timing different engines"
   ]
  },
  {
   "cell_type": "code",
   "execution_count": null,
   "metadata": {},
   "outputs": [],
   "source": [
    "%%timeit\n",
    "dataset_list = list(data_folder.iterdir())\n",
    "\n",
    "df_info_overall = pd.DataFrame()\n",
    "\n",
    "for dataset_path in tqdm(dataset_list, total=len(dataset_list)):\n",
    "    df_info = profile_dataset(dataset_path=dataset_path, engine=\"polars\")\n",
    "    df_info_overall = pd.concat([df_info_overall, df_info])"
   ]
  },
  {
   "cell_type": "code",
   "execution_count": null,
   "metadata": {},
   "outputs": [],
   "source": [
    "%%timeit\n",
    "dataset_list = list(data_folder.iterdir())\n",
    "\n",
    "df_info_overall = pd.DataFrame()\n",
    "\n",
    "for dataset_path in tqdm(dataset_list, total=len(dataset_list)):\n",
    "    df_info = profile_dataset(dataset_path=dataset_path, engine=\"pandas\")\n",
    "    df_info_overall = pd.concat([df_info_overall, df_info])"
   ]
  },
  {
   "cell_type": "markdown",
   "metadata": {},
   "source": [
    "### Testing different grouping methods"
   ]
  },
  {
   "cell_type": "markdown",
   "metadata": {},
   "source": []
  },
  {
   "cell_type": "code",
   "execution_count": 63,
   "metadata": {},
   "outputs": [],
   "source": [
    "key_cols = [\"acceptedScientificName_gbifP\", \"country_rapid\"]\n",
    "df_pd = pl.read_csv(right_table_path, infer_schema_length=0).to_pandas()\n",
    "df_pl = pl.read_csv(right_table_path, infer_schema_length=0)\n",
    "df_pl_lazy = pl.scan_csv(right_table_path, infer_schema_length=0)\n"
   ]
  },
  {
   "cell_type": "code",
   "execution_count": 83,
   "metadata": {},
   "outputs": [
    {
     "name": "stdout",
     "output_type": "stream",
     "text": [
      "11.9 ms ± 124 µs per loop (mean ± std. dev. of 7 runs, 100 loops each)\n"
     ]
    }
   ],
   "source": [
    "%%timeit\n",
    "df_pl.select(pl.col(key_cols)).groupby(key_cols).count()"
   ]
  },
  {
   "cell_type": "code",
   "execution_count": 84,
   "metadata": {},
   "outputs": [
    {
     "name": "stdout",
     "output_type": "stream",
     "text": [
      "13.3 ms ± 31.7 µs per loop (mean ± std. dev. of 7 runs, 100 loops each)\n"
     ]
    }
   ],
   "source": [
    "%%timeit\n",
    "df_pd[key_cols].groupby(key_cols).size()"
   ]
  },
  {
   "cell_type": "code",
   "execution_count": 85,
   "metadata": {},
   "outputs": [
    {
     "name": "stdout",
     "output_type": "stream",
     "text": [
      "669 ms ± 117 ms per loop (mean ± std. dev. of 7 runs, 1 loop each)\n"
     ]
    }
   ],
   "source": [
    "%%timeit\n",
    "df_pl_lazy.groupby(by=key_cols).count().collect()"
   ]
  },
  {
   "cell_type": "code",
   "execution_count": 86,
   "metadata": {},
   "outputs": [
    {
     "name": "stdout",
     "output_type": "stream",
     "text": [
      "11.6 ms ± 124 µs per loop (mean ± std. dev. of 7 runs, 100 loops each)\n"
     ]
    }
   ],
   "source": [
    "%%timeit\n",
    "df_pl.lazy().groupby(by=key_cols).count().collect()"
   ]
  },
  {
   "attachments": {},
   "cell_type": "markdown",
   "metadata": {},
   "source": [
    "### More"
   ]
  },
  {
   "cell_type": "markdown",
   "metadata": {},
   "source": []
  }
 ],
 "metadata": {
  "kernelspec": {
   "display_name": "base",
   "language": "python",
   "name": "python3"
  },
  "language_info": {
   "codemirror_mode": {
    "name": "ipython",
    "version": 3
   },
   "file_extension": ".py",
   "mimetype": "text/x-python",
   "name": "python",
   "nbconvert_exporter": "python",
   "pygments_lexer": "ipython3",
   "version": "3.10.6"
  },
  "orig_nbformat": 4
 },
 "nbformat": 4,
 "nbformat_minor": 2
}

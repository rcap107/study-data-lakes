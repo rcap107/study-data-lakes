{
 "cells": [
  {
   "attachments": {},
   "cell_type": "markdown",
   "metadata": {},
   "source": [
    "Profiling D3M+Auctus augmentation\n",
    "===\n",
    "In this notebook I will briefly analyze the the augmentation candidates provided\n",
    "by Auctus when queried using the respective D3M table. I will be using the small\n",
    "D3M set of seed tables rather than the full one."
   ]
  },
  {
   "cell_type": "code",
   "execution_count": null,
   "metadata": {},
   "outputs": [],
   "source": [
    "%cd ~/work/study-data-lakes/"
   ]
  },
  {
   "cell_type": "code",
   "execution_count": 3,
   "metadata": {},
   "outputs": [
    {
     "name": "stdout",
     "output_type": "stream",
     "text": [
      "The autoreload extension is already loaded. To reload it, use:\n",
      "  %reload_ext autoreload\n"
     ]
    }
   ],
   "source": [
    "%load_ext autoreload\n",
    "%autoreload 2\n",
    "import pandas as pd \n",
    "import polars as pl\n",
    "import json\n",
    "from pathlib import Path\n",
    "from src.auctus.utils import profile_dataset\n",
    "from tqdm import tqdm"
   ]
  },
  {
   "cell_type": "code",
   "execution_count": 4,
   "metadata": {},
   "outputs": [],
   "source": [
    "# Setting working folder\n",
    "working_folder = Path(\".\")\n",
    "root_data_folder = Path(working_folder, \"data\")\n",
    "data_folder = Path(root_data_folder, \"soda-data-lake/a-d3m/a-d3m_small\")\n",
    "assert data_folder.exists()"
   ]
  },
  {
   "attachments": {},
   "cell_type": "markdown",
   "metadata": {},
   "source": [
    "## Profiling the data lake"
   ]
  },
  {
   "cell_type": "code",
   "execution_count": 5,
   "metadata": {},
   "outputs": [
    {
     "name": "stderr",
     "output_type": "stream",
     "text": [
      "100%|██████████| 8/8 [00:43<00:00,  5.42s/it]\n"
     ]
    }
   ],
   "source": [
    "dataset_list = list(data_folder.iterdir())\n",
    "\n",
    "df_info_overall = pd.DataFrame()\n",
    "\n",
    "for dataset_path in tqdm(dataset_list, total=len(dataset_list)):\n",
    "    df_info = profile_dataset(dataset_path=dataset_path, engine=\"polars\")\n",
    "    df_info_overall = pd.concat([df_info_overall, df_info])\n",
    "\n",
    "df_info_overall.to_csv(\"info_a-d3m_small.csv\", index=False)\n"
   ]
  },
  {
   "attachments": {},
   "cell_type": "markdown",
   "metadata": {},
   "source": [
    "## Reading the csv with the statistics"
   ]
  },
  {
   "cell_type": "code",
   "execution_count": 6,
   "metadata": {},
   "outputs": [],
   "source": [
    "df_stats = pd.read_csv(\"info_a-d3m_small.csv\")"
   ]
  },
  {
   "attachments": {},
   "cell_type": "markdown",
   "metadata": {},
   "source": [
    "I'm taking a look at the content of the file. "
   ]
  },
  {
   "cell_type": "code",
   "execution_count": 8,
   "metadata": {},
   "outputs": [
    {
     "data": {
      "text/html": [
       "<div>\n",
       "<style scoped>\n",
       "    .dataframe tbody tr th:only-of-type {\n",
       "        vertical-align: middle;\n",
       "    }\n",
       "\n",
       "    .dataframe tbody tr th {\n",
       "        vertical-align: top;\n",
       "    }\n",
       "\n",
       "    .dataframe thead th {\n",
       "        text-align: right;\n",
       "    }\n",
       "</style>\n",
       "<table border=\"1\" class=\"dataframe\">\n",
       "  <thead>\n",
       "    <tr style=\"text-align: right;\">\n",
       "      <th></th>\n",
       "      <th>ds_name</th>\n",
       "      <th>candidate_name</th>\n",
       "      <th>left_on</th>\n",
       "      <th>right_on</th>\n",
       "      <th>merged_rows</th>\n",
       "      <th>scale_factor</th>\n",
       "      <th>left_unique_keys</th>\n",
       "      <th>right_unique_keys</th>\n",
       "      <th>left_rows</th>\n",
       "      <th>left_cols</th>\n",
       "    </tr>\n",
       "  </thead>\n",
       "  <tbody>\n",
       "    <tr>\n",
       "      <th>0</th>\n",
       "      <td>299_libras_move_MIN_METADATA</td>\n",
       "      <td>datamart.socrata.data-edmonton-ca.mnwt-r49h</td>\n",
       "      <td>NaN</td>\n",
       "      <td>NaN</td>\n",
       "      <td>NaN</td>\n",
       "      <td>NaN</td>\n",
       "      <td>NaN</td>\n",
       "      <td>NaN</td>\n",
       "      <td>NaN</td>\n",
       "      <td>NaN</td>\n",
       "    </tr>\n",
       "    <tr>\n",
       "      <th>1</th>\n",
       "      <td>299_libras_move_MIN_METADATA</td>\n",
       "      <td>datamart.url.e8ad58ccedbd437b96f4a36de3f4f8a7</td>\n",
       "      <td>['ycoord1', 'xcoord1']</td>\n",
       "      <td>['Lat', 'Long']</td>\n",
       "      <td>360.0</td>\n",
       "      <td>1.0</td>\n",
       "      <td>328.0</td>\n",
       "      <td>285.0</td>\n",
       "      <td>360.0</td>\n",
       "      <td>92.0</td>\n",
       "    </tr>\n",
       "    <tr>\n",
       "      <th>2</th>\n",
       "      <td>299_libras_move_MIN_METADATA</td>\n",
       "      <td>datamart.url.e8ad58ccedbd437b96f4a36de3f4f8a7</td>\n",
       "      <td>NaN</td>\n",
       "      <td>NaN</td>\n",
       "      <td>NaN</td>\n",
       "      <td>NaN</td>\n",
       "      <td>NaN</td>\n",
       "      <td>NaN</td>\n",
       "      <td>NaN</td>\n",
       "      <td>NaN</td>\n",
       "    </tr>\n",
       "    <tr>\n",
       "      <th>3</th>\n",
       "      <td>299_libras_move_MIN_METADATA</td>\n",
       "      <td>datamart.socrata.data-pr-gov.qzxu-awbt</td>\n",
       "      <td>NaN</td>\n",
       "      <td>NaN</td>\n",
       "      <td>NaN</td>\n",
       "      <td>NaN</td>\n",
       "      <td>NaN</td>\n",
       "      <td>NaN</td>\n",
       "      <td>NaN</td>\n",
       "      <td>NaN</td>\n",
       "    </tr>\n",
       "    <tr>\n",
       "      <th>4</th>\n",
       "      <td>299_libras_move_MIN_METADATA</td>\n",
       "      <td>datamart.zenodo.4464734.5aa81844-52b9-4202-b77...</td>\n",
       "      <td>NaN</td>\n",
       "      <td>NaN</td>\n",
       "      <td>NaN</td>\n",
       "      <td>NaN</td>\n",
       "      <td>NaN</td>\n",
       "      <td>NaN</td>\n",
       "      <td>NaN</td>\n",
       "      <td>NaN</td>\n",
       "    </tr>\n",
       "  </tbody>\n",
       "</table>\n",
       "</div>"
      ],
      "text/plain": [
       "                        ds_name  \\\n",
       "0  299_libras_move_MIN_METADATA   \n",
       "1  299_libras_move_MIN_METADATA   \n",
       "2  299_libras_move_MIN_METADATA   \n",
       "3  299_libras_move_MIN_METADATA   \n",
       "4  299_libras_move_MIN_METADATA   \n",
       "\n",
       "                                      candidate_name                 left_on  \\\n",
       "0        datamart.socrata.data-edmonton-ca.mnwt-r49h                     NaN   \n",
       "1      datamart.url.e8ad58ccedbd437b96f4a36de3f4f8a7  ['ycoord1', 'xcoord1']   \n",
       "2      datamart.url.e8ad58ccedbd437b96f4a36de3f4f8a7                     NaN   \n",
       "3             datamart.socrata.data-pr-gov.qzxu-awbt                     NaN   \n",
       "4  datamart.zenodo.4464734.5aa81844-52b9-4202-b77...                     NaN   \n",
       "\n",
       "          right_on  merged_rows  scale_factor  left_unique_keys  \\\n",
       "0              NaN          NaN           NaN               NaN   \n",
       "1  ['Lat', 'Long']        360.0           1.0             328.0   \n",
       "2              NaN          NaN           NaN               NaN   \n",
       "3              NaN          NaN           NaN               NaN   \n",
       "4              NaN          NaN           NaN               NaN   \n",
       "\n",
       "   right_unique_keys  left_rows  left_cols  \n",
       "0                NaN        NaN        NaN  \n",
       "1              285.0      360.0       92.0  \n",
       "2                NaN        NaN        NaN  \n",
       "3                NaN        NaN        NaN  \n",
       "4                NaN        NaN        NaN  "
      ]
     },
     "execution_count": 8,
     "metadata": {},
     "output_type": "execute_result"
    }
   ],
   "source": [
    "df_stats.head()"
   ]
  },
  {
   "attachments": {},
   "cell_type": "markdown",
   "metadata": {},
   "source": [
    "A lot of the rows contain `NaN` values: these are cases that have failed for \n",
    "various reasons (candidate table not found, mismatch between the join columns and\n",
    "more). \n",
    "These cases should be dropped from the study."
   ]
  },
  {
   "cell_type": "code",
   "execution_count": 9,
   "metadata": {},
   "outputs": [
    {
     "name": "stdout",
     "output_type": "stream",
     "text": [
      "Keeping 76.38 % of the dataset.\n"
     ]
    }
   ],
   "source": [
    "df_stats_clean = df_stats.dropna(how=\"any\")\n",
    "print(f\"Keeping {len(df_stats_clean)/len(df_stats)*100:.2f} % of the dataset.\")\n",
    "display(df_stats_clean.head())"
   ]
  },
  {
   "attachments": {},
   "cell_type": "markdown",
   "metadata": {},
   "source": [
    "Another important column to look at is `scale_factor`: this column is obtained\n",
    "by dividing the value in `merged_rows` by `left_rows`. This shows how much larger\n",
    "the merged table would be if a left join is executed using the given left and \n",
    "right keys. \n",
    "\n",
    "Here, no aggregation function is applied to 1-to-many matches, which means that \n",
    "each match in the left column is replicated for each match in the right column. \n",
    "\n",
    "The scale factor is necessarily >= 1, since this is a left join. A scale factor\n",
    "of exactly 1 means that no matches were found between the left and right table\n",
    "(an inner join in this case would be an empty set). "
   ]
  },
  {
   "cell_type": "code",
   "execution_count": 14,
   "metadata": {},
   "outputs": [
    {
     "name": "stdout",
     "output_type": "stream",
     "text": [
      "84 cases result in empty joins.\n",
      "23 cases have `scale_factor` > 1\n"
     ]
    }
   ],
   "source": [
    "print(f\"{len(df_stats.loc[df_stats['scale_factor']==1])} cases result in empty joins.\")\n",
    "\n",
    "valid_joins = df_stats.loc[df_stats[\"scale_factor\"]>1]\n",
    "\n",
    "print(f\"{len(valid_joins)} cases have `scale_factor` > 1\")"
   ]
  },
  {
   "attachments": {},
   "cell_type": "markdown",
   "metadata": {},
   "source": [
    "Out of the 23 cases with a valid scale factor, how many of them lead to an \n",
    "explosion in the number of rows in the merged table? If I choose a threshold of \n",
    "20 (i.e. each row in the left table is replicated on average 20 times), this is\n",
    "the result.\n",
    "\n",
    "Note: 20 is probably already a lot. "
   ]
  },
  {
   "cell_type": "code",
   "execution_count": 20,
   "metadata": {},
   "outputs": [
    {
     "name": "stdout",
     "output_type": "stream",
     "text": [
      "10 datasets have `scale_factor` > 20\n"
     ]
    },
    {
     "data": {
      "text/html": [
       "<div>\n",
       "<style scoped>\n",
       "    .dataframe tbody tr th:only-of-type {\n",
       "        vertical-align: middle;\n",
       "    }\n",
       "\n",
       "    .dataframe tbody tr th {\n",
       "        vertical-align: top;\n",
       "    }\n",
       "\n",
       "    .dataframe thead th {\n",
       "        text-align: right;\n",
       "    }\n",
       "</style>\n",
       "<table border=\"1\" class=\"dataframe\">\n",
       "  <thead>\n",
       "    <tr style=\"text-align: right;\">\n",
       "      <th></th>\n",
       "      <th>ds_name</th>\n",
       "      <th>candidate_name</th>\n",
       "      <th>merged_rows</th>\n",
       "      <th>scale_factor</th>\n",
       "    </tr>\n",
       "  </thead>\n",
       "  <tbody>\n",
       "    <tr>\n",
       "      <th>56</th>\n",
       "      <td>LL0_200_pbc</td>\n",
       "      <td>datamart.zenodo.6974483.3d9901cd-8a55-48ee-b2f...</td>\n",
       "      <td>161442.0</td>\n",
       "      <td>386.224880</td>\n",
       "    </tr>\n",
       "    <tr>\n",
       "      <th>57</th>\n",
       "      <td>LL0_200_pbc</td>\n",
       "      <td>datamart.socrata.data-usaid-gov.mm3i-pcnd</td>\n",
       "      <td>93585.0</td>\n",
       "      <td>223.887560</td>\n",
       "    </tr>\n",
       "    <tr>\n",
       "      <th>58</th>\n",
       "      <td>LL0_200_pbc</td>\n",
       "      <td>datamart.socrata.data-usaid-gov.ibtf-2a34</td>\n",
       "      <td>70992.0</td>\n",
       "      <td>169.837321</td>\n",
       "    </tr>\n",
       "    <tr>\n",
       "      <th>60</th>\n",
       "      <td>LL1_736_population_spawn_MIN_METADATA</td>\n",
       "      <td>datamart.socrata.www-data-act-gov-au.c5h9-9bh7</td>\n",
       "      <td>614041.0</td>\n",
       "      <td>20.293509</td>\n",
       "    </tr>\n",
       "    <tr>\n",
       "      <th>63</th>\n",
       "      <td>LL1_736_population_spawn_MIN_METADATA</td>\n",
       "      <td>datamart.zenodo.4243547.ece93f17-c7b0-48a2-b05...</td>\n",
       "      <td>929658.0</td>\n",
       "      <td>30.724370</td>\n",
       "    </tr>\n",
       "    <tr>\n",
       "      <th>69</th>\n",
       "      <td>LL1_736_population_spawn_MIN_METADATA</td>\n",
       "      <td>datamart.zenodo.6621762.6876a8dd-25e0-4c4b-918...</td>\n",
       "      <td>1879351.0</td>\n",
       "      <td>62.110880</td>\n",
       "    </tr>\n",
       "    <tr>\n",
       "      <th>80</th>\n",
       "      <td>LL1_gasoline_incl_aviation_production_industry</td>\n",
       "      <td>datamart.socrata.opendata-utah-gov.nbv6-7v56</td>\n",
       "      <td>82006.0</td>\n",
       "      <td>569.486111</td>\n",
       "    </tr>\n",
       "    <tr>\n",
       "      <th>107</th>\n",
       "      <td>political_instability_MIN_METADATA</td>\n",
       "      <td>datamart.socrata.data-usaid-gov.v799-4hug</td>\n",
       "      <td>153041.0</td>\n",
       "      <td>26.541970</td>\n",
       "    </tr>\n",
       "    <tr>\n",
       "      <th>108</th>\n",
       "      <td>political_instability_MIN_METADATA</td>\n",
       "      <td>datamart.socrata.data-usaid-gov.75qt-x4hk</td>\n",
       "      <td>258046.0</td>\n",
       "      <td>44.753035</td>\n",
       "    </tr>\n",
       "    <tr>\n",
       "      <th>109</th>\n",
       "      <td>political_instability_MIN_METADATA</td>\n",
       "      <td>datamart.socrata.data-usaid-gov.r3z6-2jv8</td>\n",
       "      <td>2437076.0</td>\n",
       "      <td>422.663198</td>\n",
       "    </tr>\n",
       "  </tbody>\n",
       "</table>\n",
       "</div>"
      ],
      "text/plain": [
       "                                            ds_name  \\\n",
       "56                                      LL0_200_pbc   \n",
       "57                                      LL0_200_pbc   \n",
       "58                                      LL0_200_pbc   \n",
       "60            LL1_736_population_spawn_MIN_METADATA   \n",
       "63            LL1_736_population_spawn_MIN_METADATA   \n",
       "69            LL1_736_population_spawn_MIN_METADATA   \n",
       "80   LL1_gasoline_incl_aviation_production_industry   \n",
       "107              political_instability_MIN_METADATA   \n",
       "108              political_instability_MIN_METADATA   \n",
       "109              political_instability_MIN_METADATA   \n",
       "\n",
       "                                        candidate_name  merged_rows  \\\n",
       "56   datamart.zenodo.6974483.3d9901cd-8a55-48ee-b2f...     161442.0   \n",
       "57           datamart.socrata.data-usaid-gov.mm3i-pcnd      93585.0   \n",
       "58           datamart.socrata.data-usaid-gov.ibtf-2a34      70992.0   \n",
       "60      datamart.socrata.www-data-act-gov-au.c5h9-9bh7     614041.0   \n",
       "63   datamart.zenodo.4243547.ece93f17-c7b0-48a2-b05...     929658.0   \n",
       "69   datamart.zenodo.6621762.6876a8dd-25e0-4c4b-918...    1879351.0   \n",
       "80        datamart.socrata.opendata-utah-gov.nbv6-7v56      82006.0   \n",
       "107          datamart.socrata.data-usaid-gov.v799-4hug     153041.0   \n",
       "108          datamart.socrata.data-usaid-gov.75qt-x4hk     258046.0   \n",
       "109          datamart.socrata.data-usaid-gov.r3z6-2jv8    2437076.0   \n",
       "\n",
       "     scale_factor  \n",
       "56     386.224880  \n",
       "57     223.887560  \n",
       "58     169.837321  \n",
       "60      20.293509  \n",
       "63      30.724370  \n",
       "69      62.110880  \n",
       "80     569.486111  \n",
       "107     26.541970  \n",
       "108     44.753035  \n",
       "109    422.663198  "
      ]
     },
     "metadata": {},
     "output_type": "display_data"
    }
   ],
   "source": [
    "valid_over_20 = valid_joins.loc[valid_joins[\"scale_factor\"] > 20][\n",
    "    [\"ds_name\", \"candidate_name\", \"merged_rows\", \"scale_factor\"]\n",
    "    ]\n",
    "print(f\"{len(valid_over_20)} datasets have `scale_factor` > 20\")\n",
    "display(valid_over_20)"
   ]
  },
  {
   "attachments": {},
   "cell_type": "markdown",
   "metadata": {},
   "source": [
    "Some of these datasets have a scale factor in the hundreds: these joins are\n",
    "completely useless, seeing how all rows in the first table would be replicated\n",
    "hundreds of times. No useful information can be obtained in such cases. "
   ]
  },
  {
   "attachments": {},
   "cell_type": "markdown",
   "metadata": {},
   "source": [
    "What about the datasets that do not have this problem? "
   ]
  },
  {
   "cell_type": "code",
   "execution_count": 21,
   "metadata": {},
   "outputs": [
    {
     "name": "stdout",
     "output_type": "stream",
     "text": [
      "13 datasets have `scale_factor` <= 20\n"
     ]
    },
    {
     "data": {
      "text/html": [
       "<div>\n",
       "<style scoped>\n",
       "    .dataframe tbody tr th:only-of-type {\n",
       "        vertical-align: middle;\n",
       "    }\n",
       "\n",
       "    .dataframe tbody tr th {\n",
       "        vertical-align: top;\n",
       "    }\n",
       "\n",
       "    .dataframe thead th {\n",
       "        text-align: right;\n",
       "    }\n",
       "</style>\n",
       "<table border=\"1\" class=\"dataframe\">\n",
       "  <thead>\n",
       "    <tr style=\"text-align: right;\">\n",
       "      <th></th>\n",
       "      <th>ds_name</th>\n",
       "      <th>candidate_name</th>\n",
       "      <th>merged_rows</th>\n",
       "      <th>scale_factor</th>\n",
       "    </tr>\n",
       "  </thead>\n",
       "  <tbody>\n",
       "    <tr>\n",
       "      <th>59</th>\n",
       "      <td>LL0_200_pbc</td>\n",
       "      <td>datamart.socrata.data-usaid-gov.4gye-9wpi</td>\n",
       "      <td>3960.0</td>\n",
       "      <td>9.473684</td>\n",
       "    </tr>\n",
       "    <tr>\n",
       "      <th>62</th>\n",
       "      <td>LL1_736_population_spawn_MIN_METADATA</td>\n",
       "      <td>datamart.socrata.data-ct-gov.ybkg-w5x2</td>\n",
       "      <td>30344.0</td>\n",
       "      <td>1.002842</td>\n",
       "    </tr>\n",
       "    <tr>\n",
       "      <th>64</th>\n",
       "      <td>LL1_736_population_spawn_MIN_METADATA</td>\n",
       "      <td>datamart.socrata.www-data-act-gov-au.65z9-5mfa</td>\n",
       "      <td>102992.0</td>\n",
       "      <td>3.403794</td>\n",
       "    </tr>\n",
       "    <tr>\n",
       "      <th>66</th>\n",
       "      <td>LL1_736_population_spawn_MIN_METADATA</td>\n",
       "      <td>datamart.socrata.health-data-ny-gov.gnvg-m62r</td>\n",
       "      <td>30517.0</td>\n",
       "      <td>1.008560</td>\n",
       "    </tr>\n",
       "    <tr>\n",
       "      <th>70</th>\n",
       "      <td>LL1_736_population_spawn_MIN_METADATA</td>\n",
       "      <td>datamart.zenodo.5142676.979356df-53c5-4842-824...</td>\n",
       "      <td>422025.0</td>\n",
       "      <td>13.947551</td>\n",
       "    </tr>\n",
       "    <tr>\n",
       "      <th>71</th>\n",
       "      <td>LL1_736_population_spawn_MIN_METADATA</td>\n",
       "      <td>datamart.zenodo.5021480.47623c54-e1a8-4716-b80...</td>\n",
       "      <td>34893.0</td>\n",
       "      <td>1.153183</td>\n",
       "    </tr>\n",
       "    <tr>\n",
       "      <th>72</th>\n",
       "      <td>LL1_736_population_spawn_MIN_METADATA</td>\n",
       "      <td>datamart.socrata.data-ct-gov.4z97-pa4q</td>\n",
       "      <td>32597.0</td>\n",
       "      <td>1.077302</td>\n",
       "    </tr>\n",
       "    <tr>\n",
       "      <th>77</th>\n",
       "      <td>LL1_736_population_spawn_MIN_METADATA</td>\n",
       "      <td>datamart.socrata.data-ny-gov.6amx-2pbv</td>\n",
       "      <td>368959.0</td>\n",
       "      <td>12.193767</td>\n",
       "    </tr>\n",
       "    <tr>\n",
       "      <th>79</th>\n",
       "      <td>LL1_736_population_spawn_MIN_METADATA</td>\n",
       "      <td>datamart.socrata.opendata-utah-gov.7iu3-rv9s</td>\n",
       "      <td>30741.0</td>\n",
       "      <td>1.015963</td>\n",
       "    </tr>\n",
       "    <tr>\n",
       "      <th>81</th>\n",
       "      <td>LL1_gasoline_incl_aviation_production_industry</td>\n",
       "      <td>datamart.socrata.opendata-maryland-gov.x7h2-rnih</td>\n",
       "      <td>198.0</td>\n",
       "      <td>1.375000</td>\n",
       "    </tr>\n",
       "    <tr>\n",
       "      <th>101</th>\n",
       "      <td>LL1_sentiment_self_drive</td>\n",
       "      <td>datamart.zenodo.4898818.2540e8f1-fb3d-4be0-8a3...</td>\n",
       "      <td>103560.0</td>\n",
       "      <td>14.471772</td>\n",
       "    </tr>\n",
       "    <tr>\n",
       "      <th>117</th>\n",
       "      <td>political_instability_MIN_METADATA</td>\n",
       "      <td>datamart.socrata.data-ny-gov.psym-z9ae</td>\n",
       "      <td>59297.0</td>\n",
       "      <td>10.283906</td>\n",
       "    </tr>\n",
       "    <tr>\n",
       "      <th>123</th>\n",
       "      <td>political_instability_MIN_METADATA</td>\n",
       "      <td>datamart.socrata.datahub-transportation-gov.ni...</td>\n",
       "      <td>69192.0</td>\n",
       "      <td>12.000000</td>\n",
       "    </tr>\n",
       "  </tbody>\n",
       "</table>\n",
       "</div>"
      ],
      "text/plain": [
       "                                            ds_name  \\\n",
       "59                                      LL0_200_pbc   \n",
       "62            LL1_736_population_spawn_MIN_METADATA   \n",
       "64            LL1_736_population_spawn_MIN_METADATA   \n",
       "66            LL1_736_population_spawn_MIN_METADATA   \n",
       "70            LL1_736_population_spawn_MIN_METADATA   \n",
       "71            LL1_736_population_spawn_MIN_METADATA   \n",
       "72            LL1_736_population_spawn_MIN_METADATA   \n",
       "77            LL1_736_population_spawn_MIN_METADATA   \n",
       "79            LL1_736_population_spawn_MIN_METADATA   \n",
       "81   LL1_gasoline_incl_aviation_production_industry   \n",
       "101                        LL1_sentiment_self_drive   \n",
       "117              political_instability_MIN_METADATA   \n",
       "123              political_instability_MIN_METADATA   \n",
       "\n",
       "                                        candidate_name  merged_rows  \\\n",
       "59           datamart.socrata.data-usaid-gov.4gye-9wpi       3960.0   \n",
       "62              datamart.socrata.data-ct-gov.ybkg-w5x2      30344.0   \n",
       "64      datamart.socrata.www-data-act-gov-au.65z9-5mfa     102992.0   \n",
       "66       datamart.socrata.health-data-ny-gov.gnvg-m62r      30517.0   \n",
       "70   datamart.zenodo.5142676.979356df-53c5-4842-824...     422025.0   \n",
       "71   datamart.zenodo.5021480.47623c54-e1a8-4716-b80...      34893.0   \n",
       "72              datamart.socrata.data-ct-gov.4z97-pa4q      32597.0   \n",
       "77              datamart.socrata.data-ny-gov.6amx-2pbv     368959.0   \n",
       "79        datamart.socrata.opendata-utah-gov.7iu3-rv9s      30741.0   \n",
       "81    datamart.socrata.opendata-maryland-gov.x7h2-rnih        198.0   \n",
       "101  datamart.zenodo.4898818.2540e8f1-fb3d-4be0-8a3...     103560.0   \n",
       "117             datamart.socrata.data-ny-gov.psym-z9ae      59297.0   \n",
       "123  datamart.socrata.datahub-transportation-gov.ni...      69192.0   \n",
       "\n",
       "     scale_factor  \n",
       "59       9.473684  \n",
       "62       1.002842  \n",
       "64       3.403794  \n",
       "66       1.008560  \n",
       "70      13.947551  \n",
       "71       1.153183  \n",
       "72       1.077302  \n",
       "77      12.193767  \n",
       "79       1.015963  \n",
       "81       1.375000  \n",
       "101     14.471772  \n",
       "117     10.283906  \n",
       "123     12.000000  "
      ]
     },
     "metadata": {},
     "output_type": "display_data"
    }
   ],
   "source": [
    "valid_sub_20 = valid_joins.loc[valid_joins[\"scale_factor\"] <= 20][\n",
    "    [\"ds_name\", \"candidate_name\", \"merged_rows\", \"scale_factor\"]\n",
    "    ]\n",
    "print(f\"{len(valid_sub_20)} datasets have `scale_factor` <= 20\")\n",
    "display(valid_sub_20)"
   ]
  },
  {
   "attachments": {},
   "cell_type": "markdown",
   "metadata": {},
   "source": [
    "There seem to be at least a few datasets that were joined and have a promising\n",
    "scale factor, and might warrant further investigation."
   ]
  },
  {
   "attachments": {},
   "cell_type": "markdown",
   "metadata": {},
   "source": [
    "## Conclusion"
   ]
  },
  {
   "attachments": {},
   "cell_type": "markdown",
   "metadata": {},
   "source": [
    "This notebook was intended to illustrate the issues that are bound to occur if \n",
    "the augmentation candidates provided by Auctus are naively joined on the seed \n",
    "table. Even ignoring the missing datasets, the majority of the augmentation \n",
    "candidates would lead to empty join sets, while out of the remaining cases, many \n",
    "of the joins result in an explosion of the size of the left table. \n",
    "\n",
    "In short, the candidates provided by Auctus are not to be used directly and should\n",
    "first be vetted to remove cases that would lead to issues downstream. "
   ]
  },
  {
   "cell_type": "markdown",
   "metadata": {},
   "source": []
  }
 ],
 "metadata": {
  "kernelspec": {
   "display_name": "base",
   "language": "python",
   "name": "python3"
  },
  "language_info": {
   "codemirror_mode": {
    "name": "ipython",
    "version": 3
   },
   "file_extension": ".py",
   "mimetype": "text/x-python",
   "name": "python",
   "nbconvert_exporter": "python",
   "pygments_lexer": "ipython3",
   "version": "3.10.6"
  },
  "orig_nbformat": 4
 },
 "nbformat": 4,
 "nbformat_minor": 2
}
